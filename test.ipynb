{
 "cells": [
  {
   "cell_type": "code",
   "execution_count": 1,
   "id": "ffc202e7",
   "metadata": {},
   "outputs": [],
   "source": [
    "from flask import Flask, request, jsonify\n",
    "import xgboost as xgb\n",
    "import pandas as pd\n",
    "import pickle\n",
    "import numpy as np"
   ]
  },
  {
   "cell_type": "code",
   "execution_count": 45,
   "id": "e3f51483",
   "metadata": {},
   "outputs": [],
   "source": [
    "df=pd.read_csv(\"data/creditcard_2023.csv\")"
   ]
  },
  {
   "cell_type": "code",
   "execution_count": 46,
   "id": "a0a900ab",
   "metadata": {},
   "outputs": [],
   "source": [
    "df.columns = df.columns.str.lower().str.replace(' ', '_')"
   ]
  },
  {
   "cell_type": "code",
   "execution_count": 2,
   "id": "f493926e",
   "metadata": {},
   "outputs": [],
   "source": [
    "app = Flask('fraud')"
   ]
  },
  {
   "cell_type": "code",
   "execution_count": 47,
   "id": "33bcf989",
   "metadata": {},
   "outputs": [
    {
     "name": "stderr",
     "output_type": "stream",
     "text": [
      "/Users/muratkahraman/anaconda3/lib/python3.9/site-packages/sklearn/base.py:329: UserWarning: Trying to unpickle estimator DictVectorizer from version 1.3.2 when using version 1.0.2. This might lead to breaking code or invalid results. Use at your own risk. For more info please refer to:\n",
      "https://scikit-learn.org/stable/modules/model_persistence.html#security-maintainability-limitations\n",
      "  warnings.warn(\n"
     ]
    }
   ],
   "source": [
    "# Load the trained model and data vectorizer\n",
    "model_file = 'xgb_model.bin'\n",
    "with open(model_file, 'rb') as f_in:\n",
    "    dv, model = pickle.load(f_in)"
   ]
  },
  {
   "cell_type": "code",
   "execution_count": 4,
   "id": "3526b9ca",
   "metadata": {},
   "outputs": [
    {
     "data": {
      "text/plain": [
       "DictVectorizer(sparse=False)"
      ]
     },
     "execution_count": 4,
     "metadata": {},
     "output_type": "execute_result"
    }
   ],
   "source": [
    "dv"
   ]
  },
  {
   "cell_type": "code",
   "execution_count": 5,
   "id": "055ecdda",
   "metadata": {},
   "outputs": [
    {
     "data": {
      "text/plain": [
       "<xgboost.core.Booster at 0x7f9426a57640>"
      ]
     },
     "execution_count": 5,
     "metadata": {},
     "output_type": "execute_result"
    }
   ],
   "source": [
    "model"
   ]
  },
  {
   "cell_type": "code",
   "execution_count": 48,
   "id": "2efe6c22",
   "metadata": {},
   "outputs": [],
   "source": [
    "feature_names = [\n",
    "    'v1', 'v2', 'v3', 'v4', 'v5', 'v6', 'v7', 'v8', 'v9', 'v10',\n",
    "    'v11', 'v12', 'v13', 'v14', 'v15', 'v16', 'v17', 'v18', 'v19', 'v20',\n",
    "    'v21', 'v22', 'v23', 'v24', 'v25', 'v26', 'v27', 'v28', 'amount'\n",
    "]"
   ]
  },
  {
   "cell_type": "code",
   "execution_count": 62,
   "id": "2b75496f",
   "metadata": {},
   "outputs": [],
   "source": [
    "customer=df.iloc[541].to_dict()"
   ]
  },
  {
   "cell_type": "code",
   "execution_count": 63,
   "id": "f76f7dcc",
   "metadata": {},
   "outputs": [
    {
     "data": {
      "text/plain": [
       "{'id': 541.0,\n",
       " 'v1': -0.4784271960990545,\n",
       " 'v2': 0.1421651242876125,\n",
       " 'v3': -0.0468380289121661,\n",
       " 'v4': 0.6833502680870056,\n",
       " 'v5': 0.0678198572410411,\n",
       " 'v6': -0.4048984594640247,\n",
       " 'v7': -0.2064959660918449,\n",
       " 'v8': 0.1843661072753982,\n",
       " 'v9': -0.7629347043611346,\n",
       " 'v10': -0.2283918022491541,\n",
       " 'v11': 0.6609030198474657,\n",
       " 'v12': -0.3875197498276417,\n",
       " 'v13': -0.533249442461466,\n",
       " 'v14': -0.502265671964952,\n",
       " 'v15': 0.4051430868662198,\n",
       " 'v16': -0.0606910405034945,\n",
       " 'v17': -0.2072367443980979,\n",
       " 'v18': 0.3056026116425647,\n",
       " 'v19': 0.1348757242981795,\n",
       " 'v20': -0.0339211457440372,\n",
       " 'v21': 0.0989766935994606,\n",
       " 'v22': -0.0751912083426939,\n",
       " 'v23': -0.4814893372271562,\n",
       " 'v24': 0.6788996384076292,\n",
       " 'v25': -0.0115196803518529,\n",
       " 'v26': 0.4090207868545027,\n",
       " 'v27': 0.0758593945999199,\n",
       " 'v28': -0.4471391388557191,\n",
       " 'amount': 1534.53,\n",
       " 'class': 1.0}"
      ]
     },
     "execution_count": 63,
     "metadata": {},
     "output_type": "execute_result"
    }
   ],
   "source": [
    "customer"
   ]
  },
  {
   "cell_type": "code",
   "execution_count": 64,
   "id": "3643c8bd",
   "metadata": {},
   "outputs": [],
   "source": [
    "def predict_model(dv, model, df):\n",
    "    columns = list(df.columns[1:-1].values)\n",
    "    dicts = df[columns].to_dict(orient='records')\n",
    "    X = dv.transform(dicts)\n",
    "    dtest = xgb.DMatrix(X, feature_names=columns)\n",
    "    y_pred = model.predict(dtest)\n",
    "    return y_pred"
   ]
  },
  {
   "cell_type": "code",
   "execution_count": 65,
   "id": "2ec52ed5",
   "metadata": {},
   "outputs": [],
   "source": [
    "data = pd.DataFrame([customer])\n",
    "aligned_data = {feature_name: customer[feature_name] for feature_name in feature_names}\n",
    "y_pred = predict_model(dv, model,data)"
   ]
  },
  {
   "cell_type": "code",
   "execution_count": 67,
   "id": "535e4103",
   "metadata": {},
   "outputs": [],
   "source": [
    "def predict_single(dv, model,customer):\n",
    "    X = dv.transform([customer])\n",
    "    y_pred = predict_model(dv, model,data)\n",
    "    return y_pred[0]"
   ]
  },
  {
   "cell_type": "code",
   "execution_count": 68,
   "id": "9f4a274e",
   "metadata": {},
   "outputs": [
    {
     "data": {
      "text/plain": [
       "0.8655938"
      ]
     },
     "execution_count": 68,
     "metadata": {},
     "output_type": "execute_result"
    }
   ],
   "source": [
    "predict_single(dv, model,customer)"
   ]
  },
  {
   "cell_type": "code",
   "execution_count": 69,
   "id": "f3214a05",
   "metadata": {},
   "outputs": [
    {
     "data": {
      "text/plain": [
       "{'error': \"'str' object has no attribute 'items'\"}"
      ]
     },
     "execution_count": 69,
     "metadata": {},
     "output_type": "execute_result"
    }
   ],
   "source": [
    "import requests\n",
    "url = 'http://localhost:9696/predict'\n",
    "response = requests.post(url, json=customer)\n",
    "result = response.json()\n",
    "result"
   ]
  },
  {
   "cell_type": "code",
   "execution_count": null,
   "id": "fc3c3b32",
   "metadata": {},
   "outputs": [],
   "source": []
  }
 ],
 "metadata": {
  "kernelspec": {
   "display_name": "Python 3 (ipykernel)",
   "language": "python",
   "name": "python3"
  },
  "language_info": {
   "codemirror_mode": {
    "name": "ipython",
    "version": 3
   },
   "file_extension": ".py",
   "mimetype": "text/x-python",
   "name": "python",
   "nbconvert_exporter": "python",
   "pygments_lexer": "ipython3",
   "version": "3.9.13"
  }
 },
 "nbformat": 4,
 "nbformat_minor": 5
}
